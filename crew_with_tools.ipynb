{
 "cells": [
  {
   "cell_type": "code",
   "execution_count": null,
   "id": "77cf097e",
   "metadata": {},
   "outputs": [],
   "source": [
    "from dotenv import load_dotenv\n",
    "load_dotenv()\n",
    "\n",
    "from crewai import LLM\n",
    "\n",
    "llm=LLM(\n",
    "    model=\"gemini/gemini-2.0-flash\",\n",
    "    temperature=0.1\n",
    ")\n",
    "from crewai import Agent, Task, Crew\n",
    "from crewai_tools import SerperDevTool\n",
    "\n",
    "research_agent = Agent(\n",
    "    name=\"Research Agent\",\n",
    "    role=\"research_agent\",\n",
    "    goal=\"Research and provide accurate information on the topic: {topic}\",\n",
    "    backstory=\"A highly skilled researcher with expertise in various fields, capable of providing accurate and detailed information.\",\n",
    "    tools=[SerperDevTool()],\n",
    "    verbose=True,\n",
    "    llm=llm\n",
    "    )\n",
    "\n",
    "writer_agent = Agent(\n",
    "    name=\"Writer Agent\",\n",
    "    role=\"writer_agent\",\n",
    "    goal=\"Write a comprehensive and engaging article on the topic\",\n",
    "    backstory=\"A professional writer with a knack for creating engaging and informative content.\",\n",
    "    verbose=True,\n",
    "    llm=llm)\n",
    "\n",
    "task1= Task(\n",
    "    description=\"Find 2-3 interesting facts about the topic: {topic} for 2025\",\n",
    "    agent=research_agent,\n",
    "    expected_output=\"A bullet list of 3-5 facts.\")\n",
    "\n",
    "task2= Task(\n",
    "    description=\"Write a 100 Word blog post summary about the topic {topic} uding the facts from the research.\",\n",
    "    agent=writer_agent,\n",
    "    expected_output=\"A blog post summary.\",\n",
    "    context = [task1])\n",
    "\n",
    "crew = Crew(\n",
    "    name=\"Blog Post Crew\",\n",
    "    agents=[research_agent, writer_agent],\n",
    "    tasks=[task1, task2],\n",
    "    llm=llm,\n",
    "    verbose=True\n",
    ")\n",
    "\n",
    "crew.kickoff(inputs={\"topic\": \"The future of the electical vehicles\"})"
   ]
  }
 ],
 "metadata": {
  "kernelspec": {
   "display_name": "crewai-agent",
   "language": "python",
   "name": "python3"
  },
  "language_info": {
   "codemirror_mode": {
    "name": "ipython",
    "version": 3
   },
   "file_extension": ".py",
   "mimetype": "text/x-python",
   "name": "python",
   "nbconvert_exporter": "python",
   "pygments_lexer": "ipython3",
   "version": "3.13.5"
  }
 },
 "nbformat": 4,
 "nbformat_minor": 5
}
